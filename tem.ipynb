{
 "cells": [
  {
   "cell_type": "code",
   "execution_count": 55,
   "metadata": {},
   "outputs": [
    {
     "ename": "",
     "evalue": "",
     "output_type": "error",
     "traceback": [
      "\u001b[1;31mThe Kernel crashed while executing code in the current cell or a previous cell. \n",
      "\u001b[1;31mPlease review the code in the cell(s) to identify a possible cause of the failure. \n",
      "\u001b[1;31mClick <a href='https://aka.ms/vscodeJupyterKernelCrash'>here</a> for more info. \n",
      "\u001b[1;31mView Jupyter <a href='command:jupyter.viewOutput'>log</a> for further details."
     ]
    }
   ],
   "source": [
    "##pobierz pobrane dane \n",
    "import json\n",
    "import pandas as pd\n",
    "from datetime import datetime\n",
    "from youtube_utils.utils import *\n",
    "\n",
    "def prepare_and_save_data(path, fiel_name):\n",
    "    \"\"\"\n",
    "    Funciton return csv file with youtube data which will be use to dashboard prepataion. \n",
    "    \"\"\"\n",
    "\n",
    "    videos_df = pd.read_json('data/raw_data/video_statistics_list.json')\n",
    "    videos_categories = pd.read_json('data/raw_data/video_categories.json')\n",
    "    videos_categories.rename(columns={'id': 'categoryId', 'title': 'category_title'}, inplace=True)\n",
    "\n",
    "\n",
    "    #change type of objects\n",
    "    videos_df[['viewCount','likeCount', 'commentCount','categoryId']] = videos_df[['viewCount','likeCount', 'commentCount','categoryId']].astype('int64')\n",
    "\n",
    "    ##define new column with minutes of video \n",
    "    videos_df['video_time'] = videos_df['contentDetails'].apply(lambda x: get_minutes(x))\n",
    "    videos_df['publishedAt']= videos_df['publishedAt'].apply(lambda x: datetime.strptime(x, \"%Y-%m-%dT%H:%M:%SZ\"))\n",
    "    videos_df['published_period'] = videos_df['publishedAt'].apply(lambda x: get_publishing_period(x))\n",
    "    videos_df['YEAR_MONTH'] = videos_df['publishedAt'].dt.to_period('M')\n",
    "    videos_df['DAY_OF_WEEK_NAME'] = videos_df['publishedAt'].dt.day_name()\n",
    "    videos_df['DAY_OF_WEEK_NUMBER'] = videos_df['publishedAt'].dt.day_of_week\n",
    "\n",
    "    videos_df = videos_df.merge(videos_categories, on='categoryId')\n",
    "    videos_df.columns = videos_df.columns.str.upper()\n",
    "\n",
    "    videos_df.to_csv(path+name+'.csv')"
   ]
  },
  {
   "cell_type": "code",
   "execution_count": 54,
   "metadata": {},
   "outputs": [],
   "source": [
    "\n",
    "prepare_and_save_data('data/dashboard_data/', 'dupa')"
   ]
  },
  {
   "cell_type": "code",
   "execution_count": 1,
   "metadata": {},
   "outputs": [],
   "source": [
    "maxResults = 30\n",
    "dowload_limit=50\n",
    "count =30\n",
    "\n",
    "maxResults =  maxResults if (dowload_limit - count)>= maxResults else (dowload_limit - count)"
   ]
  },
  {
   "cell_type": "code",
   "execution_count": 2,
   "metadata": {},
   "outputs": [
    {
     "data": {
      "text/plain": [
       "20"
      ]
     },
     "execution_count": 2,
     "metadata": {},
     "output_type": "execute_result"
    }
   ],
   "source": [
    "maxResults"
   ]
  }
 ],
 "metadata": {
  "kernelspec": {
   "display_name": "Python 3",
   "language": "python",
   "name": "python3"
  },
  "language_info": {
   "codemirror_mode": {
    "name": "ipython",
    "version": 3
   },
   "file_extension": ".py",
   "mimetype": "text/x-python",
   "name": "python",
   "nbconvert_exporter": "python",
   "pygments_lexer": "ipython3",
   "version": "3.9.1"
  }
 },
 "nbformat": 4,
 "nbformat_minor": 2
}
